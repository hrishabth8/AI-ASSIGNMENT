{
  "cells": [
    {
      "cell_type": "markdown",
      "metadata": {
        "id": "SRN842SFpzsx"
      },
      "source": []
    },
    {
      "cell_type": "code",
      "execution_count": null,
      "metadata": {
        "colab": {
          "base_uri": "https://localhost:8080/"
        },
        "collapsed": true,
        "id": "XcpwaODbp0-6",
        "outputId": "2a8d19b0-10d2-4997-f075-e6ca599b877e"
      },
      "outputs": [],
      "source": [
        "!pip install monai nibabel matplotlib\n"
      ]
    },
    {
      "cell_type": "code",
      "execution_count": null,
      "metadata": {
        "colab": {
          "base_uri": "https://localhost:8080/"
        },
        "id": "bRu7Hf3rp1Kz",
        "outputId": "87f15031-2998-4082-b39b-38c05cb3a6ba"
      },
      "outputs": [],
      "source": [
        "from google.colab import drive\n",
        "drive.mount('/content/drive')\n",
        "\n",
        "# Define paths\n",
        "DATASET_DIR = \"/content/drive/MyDrive/brats2023/train\"\n",
        "OUTPUT_DIR = \"/content/drive/MyDrive/segresnet_output\"\n",
        "os.makedirs(OUTPUT_DIR, exist_ok=True)\n"
      ]
    },
    {
      "cell_type": "code",
      "execution_count": 9,
      "metadata": {
        "id": "z5Pw_CRhp1Nk"
      },
      "outputs": [],
      "source": [
        "import os\n",
        "import numpy as np\n",
        "import nibabel as nib\n",
        "import matplotlib.pyplot as plt\n",
        "from glob import glob\n",
        "\n",
        "import torch\n",
        "import torch.nn as nn\n",
        "from torch.utils.data import DataLoader\n",
        "\n",
        "from monai.transforms import (\n",
        "    Compose, LoadImaged, EnsureChannelFirstd, Spacingd, Orientationd,\n",
        "    ScaleIntensityRanged, RandCropByPosNegLabeld, RandFlipd,\n",
        "    RandRotate90d, ToTensord\n",
        ")\n",
        "from monai.data import Dataset, CacheDataset\n",
        "from monai.networks.nets import SegResNet\n",
        "from monai.losses import DiceLoss\n",
        "from monai.metrics import DiceMetric\n",
        "from monai.inferers import sliding_window_inference\n",
        "from monai.utils import set_determinism\n"
      ]
    },
    {
      "cell_type": "code",
      "execution_count": 10,
      "metadata": {
        "id": "_wbJ274Ep1QO"
      },
      "outputs": [],
      "source": [
        "set_determinism(seed=42)\n",
        "\n",
        "train_transforms = Compose([\n",
        "    LoadImaged(keys=[\"image\", \"label\"]),\n",
        "    EnsureChannelFirstd(keys=[\"image\", \"label\"]),\n",
        "    Spacingd(keys=[\"image\", \"label\"], pixdim=(1.5, 1.5, 2.0), mode=(\"bilinear\", \"nearest\")),\n",
        "    Orientationd(keys=[\"image\", \"label\"], axcodes=\"RAS\"),\n",
        "    ScaleIntensityRanged(keys=[\"image\"], a_min=0, a_max=500, b_min=0.0, b_max=1.0, clip=True),\n",
        "    RandCropByPosNegLabeld(keys=[\"image\", \"label\"], label_key=\"label\",\n",
        "                           spatial_size=(96, 96, 96), pos=1, neg=1, num_samples=4),\n",
        "    RandFlipd(keys=[\"image\", \"label\"], prob=0.5, spatial_axis=0),\n",
        "    RandRotate90d(keys=[\"image\", \"label\"], prob=0.5, max_k=3),\n",
        "    ToTensord(keys=[\"image\", \"label\"]),\n",
        "])\n"
      ]
    },
    {
      "cell_type": "code",
      "execution_count": null,
      "metadata": {
        "id": "UI7YhTZ4p1Si"
      },
      "outputs": [],
      "source": [
        "image_paths = sorted(glob(os.path.join(DATASET_DIR, \"*-t1c.nii.gz\")))\n",
        "label_paths = sorted(glob(os.path.join(DATASET_DIR, \"*-seg.nii.gz\")))\n",
        "\n",
        "data_dicts = [{\"image\": img, \"label\": seg} for img, seg in zip(image_paths, label_paths)]\n",
        "\n",
        "train_ds = CacheDataset(data=data_dicts, transform=train_transforms, cache_rate=1.0)\n",
        "train_loader = DataLoader(train_ds, batch_size=1, shuffle=True)\n"
      ]
    },
    {
      "cell_type": "code",
      "execution_count": null,
      "metadata": {
        "id": "4K2PfBBR_1xS"
      },
      "outputs": [],
      "source": [
        "device = torch.device(\"cuda\" if torch.cuda.is_available() else \"cpu\")\n",
        "\n",
        "model = SegResNet(\n",
        "    spatial_dims=3,\n",
        "    in_channels=1,\n",
        "    out_channels=1,\n",
        "    init_features=32,\n",
        "    blocks_down=(1, 2, 2, 4),\n",
        "    blocks_up=(1, 1, 1)\n",
        ").to(device)\n",
        "\n",
        "loss_function = DiceLoss(sigmoid=True)\n",
        "optimizer = torch.optim.Adam(model.parameters(), 1e-4)\n"
      ]
    },
    {
      "cell_type": "code",
      "execution_count": null,
      "metadata": {
        "id": "5Hv8e3M2_2ka"
      },
      "outputs": [],
      "source": [
        "max_epochs = 10\n",
        "val_interval = 2\n",
        "epoch_loss_values = []\n",
        "\n",
        "for epoch in range(max_epochs):\n",
        "    print(f\"Epoch {epoch + 1}/{max_epochs}\")\n",
        "    model.train()\n",
        "    epoch_loss = 0\n",
        "    step = 0\n",
        "\n",
        "    for batch_data in train_loader:\n",
        "        step += 1\n",
        "        inputs, labels = batch_data[\"image\"].to(device), batch_data[\"label\"].to(device)\n",
        "        optimizer.zero_grad()\n",
        "        outputs = model(inputs)\n",
        "        loss = loss_function(outputs, labels)\n",
        "        loss.backward()\n",
        "        optimizer.step()\n",
        "        epoch_loss += loss.item()\n",
        "        print(f\"{step}/{len(train_loader)}, Loss: {loss.item():.4f}\")\n",
        "\n",
        "    epoch_loss /= step\n",
        "    epoch_loss_values.append(epoch_loss)\n",
        "    print(f\"Epoch {epoch + 1} average loss: {epoch_loss:.4f}\")\n",
        "\n",
        "    # Save model\n",
        "    if (epoch + 1) % val_interval == 0:\n",
        "        model_path = os.path.join(OUTPUT_DIR, f\"segresnet_epoch_{epoch+1}.pth\")\n",
        "        torch.save(model.state_dict(), model_path)\n",
        "        print(f\"Saved model checkpoint: {model_path}\")\n"
      ]
    },
    {
      "cell_type": "code",
      "execution_count": null,
      "metadata": {
        "id": "Ss6NlhHq_7eA"
      },
      "outputs": [],
      "source": [
        "plt.plot(epoch_loss_values)\n",
        "plt.title(\"Training Loss\")\n",
        "plt.xlabel(\"Epoch\")\n",
        "plt.ylabel(\"Loss\")\n",
        "plt.grid(True)\n",
        "plt.show()\n"
      ]
    },
    {
      "cell_type": "code",
      "execution_count": null,
      "metadata": {
        "id": "kEo6mytHOkeJ"
      },
      "outputs": [],
      "source": [
        "val_transforms = Compose([\n",
        "    LoadImaged(keys=[\"image\", \"label\"]),\n",
        "    EnsureChannelFirstd(keys=[\"image\", \"label\"]),\n",
        "    Spacingd(keys=[\"image\", \"label\"], pixdim=(1.5, 1.5, 2.0), mode=(\"bilinear\", \"nearest\")),\n",
        "    Orientationd(keys=[\"image\", \"label\"], axcodes=\"RAS\"),\n",
        "    ScaleIntensityRanged(keys=[\"image\"], a_min=0, a_max=500, b_min=0.0, b_max=1.0, clip=True),\n",
        "    ToTensord(keys=[\"image\", \"label\"])\n",
        "])\n"
      ]
    },
    {
      "cell_type": "code",
      "execution_count": null,
      "metadata": {
        "id": "LyAHj0PLOlDO"
      },
      "outputs": [],
      "source": [
        "VAL_DIR = \"/content/drive/MyDrive/brats2023/val\"\n",
        "\n",
        "val_images = sorted(glob(os.path.join(VAL_DIR, \"*-t1c.nii.gz\")))\n",
        "val_labels = sorted(glob(os.path.join(VAL_DIR, \"*-seg.nii.gz\")))\n",
        "\n",
        "val_data = [{\"image\": img, \"label\": lbl} for img, lbl in zip(val_images, val_labels)]\n",
        "val_ds = CacheDataset(data=val_data, transform=val_transforms, cache_rate=1.0)\n",
        "val_loader = DataLoader(val_ds, batch_size=1)\n"
      ]
    },
    {
      "cell_type": "code",
      "execution_count": null,
      "metadata": {
        "id": "9b4cScJtOoMy"
      },
      "outputs": [],
      "source": [
        "dice_metric = DiceMetric(include_background=False, reduction=\"mean\")\n",
        "\n",
        "model.load_state_dict(torch.load(\"/content/drive/MyDrive/segresnet_output/segresnet_epoch_10.pth\"))\n",
        "model.eval()\n"
      ]
    },
    {
      "cell_type": "code",
      "execution_count": null,
      "metadata": {
        "id": "IBj3RCuBOwQb"
      },
      "outputs": [],
      "source": [
        "with torch.no_grad():\n",
        "    for val_data in val_loader:\n",
        "        val_inputs = val_data[\"image\"].to(device)\n",
        "        val_labels = val_data[\"label\"].to(device)\n",
        "\n",
        "        val_outputs = sliding_window_inference(val_inputs, (96, 96, 96), 1, model)\n",
        "        val_outputs = torch.sigmoid(val_outputs) > 0.5\n",
        "\n",
        "        dice_metric(y_pred=val_outputs, y=val_labels)\n",
        "\n",
        "mean_dice = dice_metric.aggregate().item()\n",
        "print(\"Mean Dice score on validation set:\", mean_dice)\n",
        "dice_metric.reset()\n"
      ]
    },
    {
      "cell_type": "code",
      "execution_count": null,
      "metadata": {
        "id": "MODruI2COXYx"
      },
      "outputs": [],
      "source": [
        "TEST_DIR = \"/content/drive/MyDrive/brats2023/test\"\n",
        "test_images = sorted(glob(os.path.join(TEST_DIR, \"*-t1c.nii.gz\")))\n",
        "\n",
        "test_data = [{\"image\": img} for img in test_images]\n",
        "\n",
        "test_transforms = Compose([\n",
        "    LoadImaged(keys=[\"image\"]),\n",
        "    EnsureChannelFirstd(keys=[\"image\"]),\n",
        "    Spacingd(keys=[\"image\"], pixdim=(1.5, 1.5, 2.0), mode=\"bilinear\"),\n",
        "    Orientationd(keys=[\"image\"], axcodes=\"RAS\"),\n",
        "    ScaleIntensityRanged(keys=[\"image\"], a_min=0, a_max=500, b_min=0.0, b_max=1.0, clip=True),\n",
        "    ToTensord(keys=[\"image\"])\n",
        "])\n",
        "\n",
        "test_ds = CacheDataset(data=test_data, transform=test_transforms, cache_rate=1.0)\n",
        "test_loader = DataLoader(test_ds, batch_size=1)\n",
        "\n",
        "OUTPUT_PRED_DIR = \"/content/drive/MyDrive/segresnet_predictions\"\n",
        "os.makedirs(OUTPUT_PRED_DIR, exist_ok=True)\n",
        "\n",
        "model.eval()\n",
        "for i, test_case in enumerate(test_loader):\n",
        "    test_input = test_case[\"image\"].to(device)\n",
        "    test_output = sliding_window_inference(test_input, (96, 96, 96), 1, model)\n",
        "    pred = (torch.sigmoid(test_output) > 0.5).float()\n",
        "\n",
        "    # Convert back to Nifti\n",
        "    pred_np = pred.cpu().numpy()[0, 0]\n",
        "    affine = nib.load(test_case[\"image_meta_dict\"][\"filename_or_obj\"][0]).affine\n",
        "    pred_nii = nib.Nifti1Image(pred_np.astype(np.uint8), affine)\n",
        "    nib.save(pred_nii, os.path.join(OUTPUT_PRED_DIR, f\"pred_{i:03}.nii.gz\"))\n",
        "\n",
        "print(\"Saved all predictions.\")\n"
      ]
    },
    {
      "cell_type": "code",
      "execution_count": null,
      "metadata": {
        "id": "C0tJ21MRp1VM"
      },
      "outputs": [],
      "source": []
    },
    {
      "cell_type": "code",
      "execution_count": null,
      "metadata": {
        "id": "b6pdvqFCp1X9"
      },
      "outputs": [],
      "source": []
    },
    {
      "cell_type": "code",
      "execution_count": null,
      "metadata": {
        "id": "xiKI7lkZp1an"
      },
      "outputs": [],
      "source": []
    },
    {
      "cell_type": "code",
      "execution_count": null,
      "metadata": {
        "id": "rH_XYW5Up1dZ"
      },
      "outputs": [],
      "source": []
    },
    {
      "cell_type": "code",
      "execution_count": null,
      "metadata": {
        "id": "QXXaYX9Ap1gS"
      },
      "outputs": [],
      "source": []
    },
    {
      "cell_type": "code",
      "execution_count": null,
      "metadata": {
        "id": "JGD5PpK2p1jC"
      },
      "outputs": [],
      "source": []
    },
    {
      "cell_type": "code",
      "execution_count": null,
      "metadata": {
        "id": "I_VAlbZwp1mC"
      },
      "outputs": [],
      "source": []
    },
    {
      "cell_type": "code",
      "execution_count": null,
      "metadata": {
        "id": "HWbUU5IIp1oW"
      },
      "outputs": [],
      "source": []
    },
    {
      "cell_type": "code",
      "execution_count": null,
      "metadata": {
        "id": "3ZkUaixfp1rv"
      },
      "outputs": [],
      "source": []
    },
    {
      "cell_type": "code",
      "execution_count": null,
      "metadata": {
        "id": "4Ic5sajIp10y"
      },
      "outputs": [],
      "source": []
    }
  ],
  "metadata": {
    "colab": {
      "provenance": []
    },
    "kernelspec": {
      "display_name": "Python 3",
      "name": "python3"
    },
    "language_info": {
      "name": "python"
    }
  },
  "nbformat": 4,
  "nbformat_minor": 0
}
